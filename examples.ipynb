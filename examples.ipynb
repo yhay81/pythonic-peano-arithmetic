{
 "cells": [
  {
   "cell_type": "code",
   "execution_count": 1,
   "metadata": {},
   "outputs": [],
   "source": [
    "import sys\n",
    "sys.setrecursionlimit(1 << 16)\n",
    "\n",
    "from peano.utils import config_log\n",
    "from peano.natural_number import natural_number\n",
    "from peano.integer import integer\n",
    "from peano.rational import rational"
   ]
  },
  {
   "cell_type": "code",
   "execution_count": 2,
   "metadata": {},
   "outputs": [
    {
     "name": "stderr",
     "output_type": "stream",
     "text": [
      "Level 5: <N(2)> * <N(0)> = <N(0)>\n",
      "Level 4: <N(2)> + <N(0)> = <N(2)>\n",
      "Level 5: <N(2)> * <N(1)> = <N(2)> + <N(2)> * <N(1)>.pre = <N(2)> + <N(2)> * <N(0)>\n",
      "Level 4: <N(2)> + <N(0)> = <N(2)>\n",
      "Level 4: <N(2)> + <N(1)> = NaturalNumber(pre=<N(2)> + <N(0)>)\n",
      "Level 4: <N(2)> + <N(2)> = NaturalNumber(pre=<N(2)> + <N(1)>)\n",
      "Level 5: <N(2)> * <N(2)> = <N(2)> + <N(2)> * <N(2)>.pre = <N(2)> + <N(2)> * <N(1)>\n",
      "Level 4: <N(2)> + <N(0)> = <N(2)>\n",
      "Level 4: <N(2)> + <N(1)> = NaturalNumber(pre=<N(2)> + <N(0)>)\n",
      "Level 4: <N(2)> + <N(2)> = NaturalNumber(pre=<N(2)> + <N(1)>)\n",
      "Level 4: <N(2)> + <N(3)> = NaturalNumber(pre=<N(2)> + <N(2)>)\n",
      "Level 4: <N(2)> + <N(4)> = NaturalNumber(pre=<N(2)> + <N(3)>)\n",
      "Level 5: <N(2)> * <N(3)> = <N(2)> + <N(2)> * <N(3)>.pre = <N(2)> + <N(2)> * <N(2)>\n"
     ]
    },
    {
     "data": {
      "text/plain": [
       "<N(6)>"
      ]
     },
     "execution_count": 2,
     "metadata": {},
     "output_type": "execute_result"
    }
   ],
   "source": [
    "config_log(log_level=0, root=True)\n",
    "natural_number(2) * natural_number(3)"
   ]
  },
  {
   "cell_type": "code",
   "execution_count": 3,
   "metadata": {},
   "outputs": [
    {
     "name": "stderr",
     "output_type": "stream",
     "text": [
      "Level 14: -<Z(3,0)> = Integer(<N(0)>, <N(3)>)\n",
      "Level 14: Integer(<N(2)>+ <N(0)>, <N(0)> + <N(3)>)\n",
      "Level 14: -<Z(3,0)> = Integer(<N(0)>, <N(3)>)\n",
      "Level 14: <Z(2,0)> - <Z(3,0)> = <Z(2,0)> + <Z(0,3)>\n",
      "Level 14: -<Z(1,0)> = Integer(<N(0)>, <N(1)>)\n",
      "Level 11: <Z(2,3)> == <Z(0,1)> = <N(2)> + <N(1)> == <N(3)> + <N(0)>\n"
     ]
    },
    {
     "data": {
      "text/plain": [
       "True"
      ]
     },
     "execution_count": 3,
     "metadata": {},
     "output_type": "execute_result"
    }
   ],
   "source": [
    "config_log(log_level=10, root=True)\n",
    "integer(2) - integer(3) == - integer(1)"
   ]
  },
  {
   "cell_type": "code",
   "execution_count": 4,
   "metadata": {},
   "outputs": [
    {
     "name": "stderr",
     "output_type": "stream",
     "text": [
      "Level 12: <Z(0,0)> <= <Z(2,0)> = <N(0)> + <N(0)> <= <N(0)> + <N(2)>\n",
      "Level 12: <Z(0,0)> <= <Z(3,0)> = <N(0)> + <N(0)> <= <N(0)> + <N(3)>\n",
      "Level 12: <Z(0,0)> <= <Z(3,0)> = <N(0)> + <N(0)> <= <N(0)> + <N(3)>\n",
      "Level 12: <Z(0,0)> <= <Z(5,0)> = <N(0)> + <N(0)> <= <N(0)> + <N(5)>\n",
      "Level 15: <Z(3,0)> * <Z(3,0)> = Integer(<N(3)> * <N(3)> + <N(0)> * <N(0)>, <N(3)> * <N(0)> + <N(0)> * <N(3)>)\n",
      "Level 15: <Z(5,0)> * <Z(2,0)> = Integer(<N(5)> * <N(2)> + <N(0)> * <N(0)>, <N(5)> * <N(0)> + <N(0)> * <N(2)>)\n",
      "Level 12: <Z(9,0)> <= <Z(10,0)> = <N(9)> + <N(0)> <= <N(0)> + <N(10)>\n",
      "Level 22: <Q(3/5)> <= <Q(2/3)> = <Q(3/5)>.p * <Q(2/3)>.q <= <Q(3/5)>.q * <Q(2/3)>.p\n",
      "Level 15: <Z(3,0)> * <Z(3,0)> = Integer(<N(3)> * <N(3)> + <N(0)> * <N(0)>, <N(3)> * <N(0)> + <N(0)> * <N(3)>)\n",
      "Level 15: <Z(5,0)> * <Z(2,0)> = Integer(<N(5)> * <N(2)> + <N(0)> * <N(0)>, <N(5)> * <N(0)> + <N(0)> * <N(2)>)\n",
      "Level 11: <Z(9,0)> == <Z(10,0)> = <N(9)> + <N(0)> == <N(0)> + <N(10)>\n",
      "Level 21: <Q(3/5)> == <Q(2/3)> = <Q(3/5)>.p * <Q(2/3)>.q == <Q(3/5)>.q * <Q(2/3)>.p\n",
      "Level 23: <Q(3/5)> < <Q(2/3)> = <Q(3/5)> <= <Q(2/3)> and <Q(3/5)> != <Q(2/3)>\n"
     ]
    },
    {
     "data": {
      "text/plain": [
       "True"
      ]
     },
     "execution_count": 4,
     "metadata": {},
     "output_type": "execute_result"
    }
   ],
   "source": [
    "config_log(log_level=10, root=True)\n",
    "rational(2,3) > rational(3,5)"
   ]
  },
  {
   "cell_type": "code",
   "execution_count": 5,
   "metadata": {},
   "outputs": [
    {
     "name": "stderr",
     "output_type": "stream",
     "text": [
      "Level 12: <Z(0,0)> <= <Z(1,0)> = <N(0)> + <N(0)> <= <N(0)> + <N(1)>\n",
      "Level 12: <Z(0,0)> <= <Z(3,0)> = <N(0)> + <N(0)> <= <N(0)> + <N(3)>\n",
      "Level 12: <Z(0,0)> <= <Z(1,0)> = <N(0)> + <N(0)> <= <N(0)> + <N(1)>\n",
      "Level 12: <Z(0,0)> <= <Z(2,0)> = <N(0)> + <N(0)> <= <N(0)> + <N(2)>\n",
      "Level 14: -<Z(1,0)> = Integer(<N(0)>, <N(1)>)\n",
      "Level 12: <Z(0,0)> <= <Z(0,1)> = <N(0)> + <N(1)> <= <N(0)> + <N(0)>\n",
      "Level 12: <Z(0,0)> <= <Z(2,0)> = <N(0)> + <N(0)> <= <N(0)> + <N(2)>\n",
      "Level 24: -<Q(1/2)> = Rational(-<Z(1,0)>, <Z(2,0)>)\n",
      "Level 15: <Z(1,0)> * <Z(2,0)> = Integer(<N(1)> * <N(2)> + <N(0)> * <N(0)>, <N(1)> * <N(0)> + <N(0)> * <N(2)>)\n",
      "Level 15: <Z(3,0)> * <Z(0,1)> = Integer(<N(3)> * <N(0)> + <N(0)> * <N(1)>, <N(3)> * <N(1)> + <N(0)> * <N(0)>)\n",
      "Level 14: Integer(<N(2)>+ <N(0)>, <N(0)> + <N(3)>)\n",
      "Level 15: <Z(3,0)> * <Z(2,0)> = Integer(<N(3)> * <N(2)> + <N(0)> * <N(0)>, <N(3)> * <N(0)> + <N(0)> * <N(2)>)\n",
      "Level 12: <Z(0,0)> <= <Z(2,3)> = <N(0)> + <N(3)> <= <N(0)> + <N(2)>\n",
      "Level 12: <Z(0,0)> <= <Z(6,0)> = <N(0)> + <N(0)> <= <N(0)> + <N(6)>\n",
      "Level 24: <Q(1/3)> + <Q(-1/2)> = Rational(<Q(1/3)>.p * <Q(-1/2)>.q + <Q(1/3)>.q * <Q(-1/2)>.p, <Q(1/3)>.q * <Q(-1/2)>.q)\n",
      "Level 24: <Q(1/3)> - <Q(1/2)> = <Q(1/3)> + -<Q(1/2)>\n"
     ]
    },
    {
     "data": {
      "text/plain": [
       "<Q(-1/6)>"
      ]
     },
     "execution_count": 5,
     "metadata": {},
     "output_type": "execute_result"
    }
   ],
   "source": [
    "config_log(log_level=10, root=True)\n",
    "rational(1,3) - rational(1,2)"
   ]
  },
  {
   "cell_type": "code",
   "execution_count": null,
   "metadata": {},
   "outputs": [],
   "source": []
  }
 ],
 "metadata": {
  "interpreter": {
   "hash": "da0ef397afdac57b7c682115e3fd8d432ec09bd9baf73c97b1b1120de778028f"
  },
  "kernelspec": {
   "display_name": "Python 3 (ipykernel)",
   "language": "python",
   "name": "python3"
  },
  "language_info": {
   "codemirror_mode": {
    "name": "ipython",
    "version": 3
   },
   "file_extension": ".py",
   "mimetype": "text/x-python",
   "name": "python",
   "nbconvert_exporter": "python",
   "pygments_lexer": "ipython3",
   "version": "3.10.2"
  }
 },
 "nbformat": 4,
 "nbformat_minor": 2
}
